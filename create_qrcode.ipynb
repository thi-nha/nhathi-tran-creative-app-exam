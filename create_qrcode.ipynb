{
 "cells": [
  {
   "cell_type": "code",
   "execution_count": 1,
   "id": "16c8986c-c6f1-4a83-9807-c95e568a0410",
   "metadata": {},
   "outputs": [
    {
     "name": "stdout",
     "output_type": "stream",
     "text": [
      "Requirement already satisfied: segno in c:\\users\\thi\\appdata\\local\\programs\\python\\python312\\lib\\site-packages (1.6.1)\n",
      "Requirement already satisfied: qrcode-artistic in c:\\users\\thi\\appdata\\local\\programs\\python\\python312\\lib\\site-packages (3.0.2)\n",
      "Requirement already satisfied: pillow in c:\\users\\thi\\appdata\\local\\packages\\pythonsoftwarefoundation.python.3.12_qbz5n2kfra8p0\\localcache\\local-packages\\python312\\site-packages (10.3.0)\n"
     ]
    }
   ],
   "source": [
    "! pip3 install segno qrcode-artistic pillow"
   ]
  },
  {
   "cell_type": "code",
   "execution_count": 1,
   "id": "2ce3fcb5-a430-47ee-83f5-401b5815b8c7",
   "metadata": {},
   "outputs": [],
   "source": [
    "import sys\n",
    "sys.path.append(r'c:\\users\\thi\\appdata\\local\\programs\\python\\python312\\lib\\site-packages')\n",
    "import segno"
   ]
  },
  {
   "cell_type": "code",
   "execution_count": 2,
   "id": "010addb6-f708-496c-9a48-6e74aca8c751",
   "metadata": {},
   "outputs": [],
   "source": []
  },
  {
   "cell_type": "code",
   "execution_count": 2,
   "id": "7dda80e9-0bb5-4cac-95e7-d531c3b7782c",
   "metadata": {},
   "outputs": [
    {
     "data": {
      "image/jpeg": "[encoded data removed]",
      "image/png": "[encoded data removed]",
      "text/plain": [
       "<PIL.PngImagePlugin.PngImageFile image mode=1 size=33x33>"
      ]
     },
     "execution_count": 2,
     "metadata": {},
     "output_type": "execute_result"
    }
   ],
   "source": [
    "# creating a new qr code to encode the youtube link with the song smeels like teen spirit\n",
    "\n",
    "qrcode=segno.make_qr(\"https://youtu.be/tnC_TDzUlOo\")\n",
    "qrcode.to_pil()"
   ]
  },
  {
   "cell_type": "code",
   "execution_count": 3,
   "id": "dd4b4060-6861-4938-907f-51dc861d8bf4",
   "metadata": {},
   "outputs": [],
   "source": [
    "from urllib.request import urlopen\n",
    "#use the to artistic method to place the giphy as the qr code background\n",
    "myvideo_url = \"../images/flower.gif\"\n",
    "\n",
    "qrcode.to_artistic(background=myvideo_url, target=\"../images/QR_to_myVideo.gif\", scale=10)"
   ]
  },
  {
   "cell_type": "code",
   "execution_count": null,
   "id": "a1b84b2b-cc62-470e-abe6-f39040879069",
   "metadata": {},
   "outputs": [],
   "source": []
  }
 ],
 "metadata": {
  "kernelspec": {
   "display_name": "Python 3 (ipykernel)",
   "language": "python",
   "name": "python3"
  },
  "language_info": {
   "codemirror_mode": {
    "name": "ipython",
    "version": 3
   },
   "file_extension": ".py",
   "mimetype": "text/x-python",
   "name": "python",
   "nbconvert_exporter": "python",
   "pygments_lexer": "ipython3",
   "version": "3.12.5"
  }
 },
 "nbformat": 4,
 "nbformat_minor": 5
}
